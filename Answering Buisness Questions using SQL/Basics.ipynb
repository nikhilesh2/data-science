{
 "cells": [
  {
   "cell_type": "markdown",
   "metadata": {
    "collapsed": true
   },
   "source": [
    "# Helper Functions"
   ]
  },
  {
   "cell_type": "code",
   "execution_count": 2,
   "metadata": {
    "collapsed": false
   },
   "outputs": [],
   "source": [
    "import sqlite3\n",
    "import pandas as pd\n",
    "import numpy as np\n",
    "import matplotlib.pyplot as plt\n",
    "from matplotlib import cm\n",
    "%matplotlib inline\n",
    "\n",
    "db = 'chinook.db'\n",
    "\n",
    "# Function to run our SQL query\n",
    "def run_query(q):\n",
    "    with sqlite3.connect(db) as conn:\n",
    "        return pd.read_sql(q, conn)\n",
    "\n",
    "# Function to run a query that does not involve any table modifications\n",
    "def run_command(c):\n",
    "    with sqlite3.connect(db) as conn:\n",
    "        conn.isolation_level = None\n",
    "        conn.execute(c)\n",
    "\n",
    "# Function to list all our tables\n",
    "def show_tables():\n",
    "    q = '''\n",
    "    SELECT\n",
    "        name,\n",
    "        type\n",
    "    FROM sqlite_master\n",
    "    WHERE type IN (\"table\",\"view\");\n",
    "    '''\n",
    "    return run_query(q)"
   ]
  },
  {
   "cell_type": "markdown",
   "metadata": {},
   "source": [
    "# Analyzing Sales by Music Genre"
   ]
  },
  {
   "cell_type": "code",
   "execution_count": 4,
   "metadata": {
    "collapsed": false
   },
   "outputs": [
    {
     "data": {
      "text/html": [
       "<div>\n",
       "<table border=\"1\" class=\"dataframe\">\n",
       "  <thead>\n",
       "    <tr style=\"text-align: right;\">\n",
       "      <th></th>\n",
       "      <th>genre</th>\n",
       "      <th>tracks_sold</th>\n",
       "      <th>percentage_sold</th>\n",
       "    </tr>\n",
       "  </thead>\n",
       "  <tbody>\n",
       "    <tr>\n",
       "      <th>0</th>\n",
       "      <td>Rock</td>\n",
       "      <td>561</td>\n",
       "      <td>0.533777</td>\n",
       "    </tr>\n",
       "    <tr>\n",
       "      <th>1</th>\n",
       "      <td>Alternative &amp; Punk</td>\n",
       "      <td>130</td>\n",
       "      <td>0.123692</td>\n",
       "    </tr>\n",
       "    <tr>\n",
       "      <th>2</th>\n",
       "      <td>Metal</td>\n",
       "      <td>124</td>\n",
       "      <td>0.117983</td>\n",
       "    </tr>\n",
       "    <tr>\n",
       "      <th>3</th>\n",
       "      <td>R&amp;B/Soul</td>\n",
       "      <td>53</td>\n",
       "      <td>0.050428</td>\n",
       "    </tr>\n",
       "    <tr>\n",
       "      <th>4</th>\n",
       "      <td>Blues</td>\n",
       "      <td>36</td>\n",
       "      <td>0.034253</td>\n",
       "    </tr>\n",
       "    <tr>\n",
       "      <th>5</th>\n",
       "      <td>Alternative</td>\n",
       "      <td>35</td>\n",
       "      <td>0.033302</td>\n",
       "    </tr>\n",
       "    <tr>\n",
       "      <th>6</th>\n",
       "      <td>Latin</td>\n",
       "      <td>22</td>\n",
       "      <td>0.020932</td>\n",
       "    </tr>\n",
       "    <tr>\n",
       "      <th>7</th>\n",
       "      <td>Pop</td>\n",
       "      <td>22</td>\n",
       "      <td>0.020932</td>\n",
       "    </tr>\n",
       "    <tr>\n",
       "      <th>8</th>\n",
       "      <td>Hip Hop/Rap</td>\n",
       "      <td>20</td>\n",
       "      <td>0.019029</td>\n",
       "    </tr>\n",
       "    <tr>\n",
       "      <th>9</th>\n",
       "      <td>Jazz</td>\n",
       "      <td>14</td>\n",
       "      <td>0.013321</td>\n",
       "    </tr>\n",
       "  </tbody>\n",
       "</table>\n",
       "</div>"
      ],
      "text/plain": [
       "                genre  tracks_sold  percentage_sold\n",
       "0                Rock          561         0.533777\n",
       "1  Alternative & Punk          130         0.123692\n",
       "2               Metal          124         0.117983\n",
       "3            R&B/Soul           53         0.050428\n",
       "4               Blues           36         0.034253\n",
       "5         Alternative           35         0.033302\n",
       "6               Latin           22         0.020932\n",
       "7                 Pop           22         0.020932\n",
       "8         Hip Hop/Rap           20         0.019029\n",
       "9                Jazz           14         0.013321"
      ]
     },
     "execution_count": 4,
     "metadata": {},
     "output_type": "execute_result"
    }
   ],
   "source": [
    "# query will return us the top ten music genre by total sales as well\n",
    "q = '''\n",
    "    WITH genre_sales_usa AS\n",
    "        (\n",
    "            SELECT il.*, g.*, c.country  FROM invoice_line il\n",
    "            INNER JOIN invoice i ON il.invoice_id = i.invoice_id\n",
    "            INNER JOIN customer c on i.customer_id = c.customer_id\n",
    "            INNER JOIN track t ON il.track_id = t.track_id\n",
    "            INNER JOIN genre g ON t.genre_id = g.genre_id\n",
    "            WHERE c.country = 'USA'\n",
    "        )\n",
    "    SELECT\n",
    "        name genre, \n",
    "        SUM(quantity) tracks_sold, \n",
    "        CAST(SUM(quantity) as FLOAT)/ (SELECT COUNT(*) FROM genre_sales_usa) percentage_sold \n",
    "    FROM genre_sales_usa\n",
    "    GROUP BY 1\n",
    "    ORDER BY tracks_sold DESC\n",
    "    LIMIT 10\n",
    "    '''\n",
    "run_query(q)"
   ]
  },
  {
   "cell_type": "code",
   "execution_count": 5,
   "metadata": {
    "collapsed": false
   },
   "outputs": [
    {
     "data": {
      "image/png": "[encoded data removed]",
      "text/plain": [
       "<matplotlib.figure.Figure at 0x7f4af8dc1908>"
      ]
     },
     "metadata": {},
     "output_type": "display_data"
    }
   ],
   "source": [
    "genre_sales_usa = run_query(q)\n",
    "\n",
    "# Set our index to the genre\n",
    "genre_sales_usa.set_index(\"genre\", inplace=True)\n",
    "\n",
    "#Set up our bar chart\n",
    "genre_sales_usa.plot.barh( xlim=(0, 630), title=\"Sales by Genre in USA\", colormap=plt.cm.rainbow)\n",
    "\n",
    "# Add annotations to our chart for better readability\n",
    "for i, label in enumerate(genre_sales_usa.index):\n",
    "    pct_sold = str(int(genre_sales_usa.loc[label, \"percentage_sold\"] * 100)) + \"%\"\n",
    "    plt.text(\n",
    "        genre_sales_usa.loc[label, \"tracks_sold\"] + 10, \n",
    "        i - 0.3, \n",
    "        pct_sold, \n",
    "        color=\"black\", \n",
    "        fontweight=\"light\"\n",
    "    ) \n",
    "\n",
    "plt.tick_params(left=\"off\", top=\"off\", right=\"off\")\n",
    "plt.legend().set_visible(False)\n",
    "plt.show()"
   ]
  },
  {
   "cell_type": "markdown",
   "metadata": {},
   "source": [
    "<p>We clearly see the Rock Genre in the USA possessing the majority of sales. However, based on the 4 albums given, the following three would be the best choices</p>\n",
    "<ol>\n",
    "    <li>\n",
    "        Red Tone (Punk)\n",
    "    </li>\n",
    "    <li>\n",
    "        Slim Jim Bites (Blues)\n",
    "    </li>\n",
    "    <li>\n",
    "        Meteor and the Girls (Pop)\n",
    "    </li>\n",
    "</ol>\n",
    "<p></p>"
   ]
  },
  {
   "cell_type": "markdown",
   "metadata": {},
   "source": [
    "# Analyzing sales by Sales Support Agent"
   ]
  },
  {
   "cell_type": "code",
   "execution_count": 6,
   "metadata": {
    "collapsed": false
   },
   "outputs": [
    {
     "data": {
      "text/html": [
       "<div>\n",
       "<table border=\"1\" class=\"dataframe\">\n",
       "  <thead>\n",
       "    <tr style=\"text-align: right;\">\n",
       "      <th></th>\n",
       "      <th>employee_name</th>\n",
       "      <th>hire_date</th>\n",
       "      <th>total_sales</th>\n",
       "    </tr>\n",
       "  </thead>\n",
       "  <tbody>\n",
       "    <tr>\n",
       "      <th>0</th>\n",
       "      <td>Jane Peacock</td>\n",
       "      <td>2017-04-01 00:00:00</td>\n",
       "      <td>1731.51</td>\n",
       "    </tr>\n",
       "    <tr>\n",
       "      <th>1</th>\n",
       "      <td>Margaret Park</td>\n",
       "      <td>2017-05-03 00:00:00</td>\n",
       "      <td>1584.00</td>\n",
       "    </tr>\n",
       "    <tr>\n",
       "      <th>2</th>\n",
       "      <td>Steve Johnson</td>\n",
       "      <td>2017-10-17 00:00:00</td>\n",
       "      <td>1393.92</td>\n",
       "    </tr>\n",
       "  </tbody>\n",
       "</table>\n",
       "</div>"
      ],
      "text/plain": [
       "   employee_name            hire_date  total_sales\n",
       "0   Jane Peacock  2017-04-01 00:00:00      1731.51\n",
       "1  Margaret Park  2017-05-03 00:00:00      1584.00\n",
       "2  Steve Johnson  2017-10-17 00:00:00      1393.92"
      ]
     },
     "execution_count": 6,
     "metadata": {},
     "output_type": "execute_result"
    }
   ],
   "source": [
    "# The following query will get us the sales support agent with the best sales\n",
    "q = '''\n",
    "    WITH customer_sales AS \n",
    "    (\n",
    "        SELECT e.*, i.customer_id, SUM(i.total) total FROM employee e\n",
    "        INNER JOIN customer c ON e.employee_id = c.support_rep_id\n",
    "        INNER JOIN invoice i ON c.customer_id = i.customer_id\n",
    "        GROUP BY i.customer_id\n",
    "    )\n",
    "    SELECT\n",
    "    first_name || \" \" || last_name AS employee_name,\n",
    "    hire_date,\n",
    "    SUM(total) total_sales\n",
    "    FROM customer_sales\n",
    "    GROUP BY employee_id\n",
    "    ORDER BY total_sales DESC\n",
    "    '''\n",
    "run_query(q)"
   ]
  },
  {
   "cell_type": "code",
   "execution_count": 7,
   "metadata": {
    "collapsed": false
   },
   "outputs": [
    {
     "data": {
      "image/png": "[encoded data removed]",
      "text/plain": [
       "<matplotlib.figure.Figure at 0x7f4af06a2cf8>"
      ]
     },
     "metadata": {},
     "output_type": "display_data"
    }
   ],
   "source": [
    "employee_sales = run_query(q)\n",
    "\n",
    "# Set the index to employee_name \n",
    "employee_sales.set_index(\"employee_name\", inplace=True)\n",
    "\n",
    "# Sort the values in our dataframe by total_sales\n",
    "employee_sales.sort_values(\"total_sales\", inplace=True)\n",
    "\n",
    "# Create our chart\n",
    "employee_sales.plot.barh( title=\"Sales by Employee\", colormap=plt.cm.rainbow)\n",
    "\n",
    "plt.legend().set_visible(False)\n",
    "plt.tick_params(left=\"off\", top=\"off\", right=\"off\", bottom=\"off\")\n",
    "plt.ylabel('')\n",
    "plt.show()"
   ]
  },
  {
   "cell_type": "markdown",
   "metadata": {},
   "source": [
    "<p>From the graph, we see that the employees that have been working for the company longer achieved more sales</p>"
   ]
  },
  {
   "cell_type": "markdown",
   "metadata": {},
   "source": [
    "# Examining Customer Sales by Country"
   ]
  },
  {
   "cell_type": "code",
   "execution_count": 8,
   "metadata": {
    "collapsed": false
   },
   "outputs": [
    {
     "data": {
      "text/html": [
       "<div>\n",
       "<table border=\"1\" class=\"dataframe\">\n",
       "  <thead>\n",
       "    <tr style=\"text-align: right;\">\n",
       "      <th></th>\n",
       "      <th>total_customers</th>\n",
       "      <th>total_sales</th>\n",
       "      <th>sales_avg</th>\n",
       "      <th>average_order_val</th>\n",
       "      <th>country</th>\n",
       "      <th>sort</th>\n",
       "    </tr>\n",
       "  </thead>\n",
       "  <tbody>\n",
       "    <tr>\n",
       "      <th>0</th>\n",
       "      <td>13</td>\n",
       "      <td>1040.49</td>\n",
       "      <td>7.942672</td>\n",
       "      <td>80.037692</td>\n",
       "      <td>USA</td>\n",
       "      <td>0</td>\n",
       "    </tr>\n",
       "    <tr>\n",
       "      <th>1</th>\n",
       "      <td>8</td>\n",
       "      <td>535.59</td>\n",
       "      <td>7.047237</td>\n",
       "      <td>66.948750</td>\n",
       "      <td>Canada</td>\n",
       "      <td>0</td>\n",
       "    </tr>\n",
       "    <tr>\n",
       "      <th>2</th>\n",
       "      <td>5</td>\n",
       "      <td>427.68</td>\n",
       "      <td>7.011148</td>\n",
       "      <td>85.536000</td>\n",
       "      <td>Brazil</td>\n",
       "      <td>0</td>\n",
       "    </tr>\n",
       "    <tr>\n",
       "      <th>3</th>\n",
       "      <td>5</td>\n",
       "      <td>389.07</td>\n",
       "      <td>7.781400</td>\n",
       "      <td>77.814000</td>\n",
       "      <td>France</td>\n",
       "      <td>0</td>\n",
       "    </tr>\n",
       "    <tr>\n",
       "      <th>4</th>\n",
       "      <td>4</td>\n",
       "      <td>334.62</td>\n",
       "      <td>8.161463</td>\n",
       "      <td>83.655000</td>\n",
       "      <td>Germany</td>\n",
       "      <td>0</td>\n",
       "    </tr>\n",
       "    <tr>\n",
       "      <th>5</th>\n",
       "      <td>2</td>\n",
       "      <td>273.24</td>\n",
       "      <td>9.108000</td>\n",
       "      <td>136.620000</td>\n",
       "      <td>Czech Republic</td>\n",
       "      <td>0</td>\n",
       "    </tr>\n",
       "    <tr>\n",
       "      <th>6</th>\n",
       "      <td>3</td>\n",
       "      <td>245.52</td>\n",
       "      <td>8.768571</td>\n",
       "      <td>81.840000</td>\n",
       "      <td>United Kingdom</td>\n",
       "      <td>0</td>\n",
       "    </tr>\n",
       "    <tr>\n",
       "      <th>7</th>\n",
       "      <td>2</td>\n",
       "      <td>185.13</td>\n",
       "      <td>6.383793</td>\n",
       "      <td>92.565000</td>\n",
       "      <td>Portugal</td>\n",
       "      <td>0</td>\n",
       "    </tr>\n",
       "    <tr>\n",
       "      <th>8</th>\n",
       "      <td>2</td>\n",
       "      <td>183.15</td>\n",
       "      <td>8.721429</td>\n",
       "      <td>91.575000</td>\n",
       "      <td>India</td>\n",
       "      <td>0</td>\n",
       "    </tr>\n",
       "    <tr>\n",
       "      <th>9</th>\n",
       "      <td>15</td>\n",
       "      <td>1094.94</td>\n",
       "      <td>7.448571</td>\n",
       "      <td>72.996000</td>\n",
       "      <td>Other</td>\n",
       "      <td>1</td>\n",
       "    </tr>\n",
       "  </tbody>\n",
       "</table>\n",
       "</div>"
      ],
      "text/plain": [
       "   total_customers  total_sales  sales_avg  average_order_val         country  \\\n",
       "0               13      1040.49   7.942672          80.037692             USA   \n",
       "1                8       535.59   7.047237          66.948750          Canada   \n",
       "2                5       427.68   7.011148          85.536000          Brazil   \n",
       "3                5       389.07   7.781400          77.814000          France   \n",
       "4                4       334.62   8.161463          83.655000         Germany   \n",
       "5                2       273.24   9.108000         136.620000  Czech Republic   \n",
       "6                3       245.52   8.768571          81.840000  United Kingdom   \n",
       "7                2       185.13   6.383793          92.565000        Portugal   \n",
       "8                2       183.15   8.721429          91.575000           India   \n",
       "9               15      1094.94   7.448571          72.996000           Other   \n",
       "\n",
       "   sort  \n",
       "0     0  \n",
       "1     0  \n",
       "2     0  \n",
       "3     0  \n",
       "4     0  \n",
       "5     0  \n",
       "6     0  \n",
       "7     0  \n",
       "8     0  \n",
       "9     1  "
      ]
     },
     "execution_count": 8,
     "metadata": {},
     "output_type": "execute_result"
    }
   ],
   "source": [
    "# The following query return us aggregate data on sales by country\n",
    "q = '''\n",
    "    WITH countries_as_other AS \n",
    "    (\n",
    "        SELECT\n",
    "            CASE\n",
    "                WHEN (\n",
    "                    SELECT COUNT(*) FROM customer WHERE country = c.country\n",
    "                ) = 1 THEN \"Other\"\n",
    "                ELSE c.country\n",
    "            END AS country,\n",
    "            c.*\n",
    "        FROM customer c\n",
    "    ),\n",
    "    customer_sales_country AS\n",
    "    (\n",
    "        SELECT \n",
    "            COUNT(DISTINCT c.customer_id) total_customers,\n",
    "            SUM(il.unit_price) total_sales,\n",
    "            SUM(il.unit_price)/COUNT(DISTINCT i.invoice_id) sales_avg,\n",
    "            SUM(il.unit_price)/COUNT(DISTINCT c.customer_id) average_order_val,\n",
    "            c.country\n",
    "        FROM countries_as_other c\n",
    "        INNER JOIN invoice i ON c.customer_id = i.customer_id\n",
    "        INNER JOIN invoice_line il ON i.invoice_id = il.invoice_id\n",
    "        GROUP BY c.country\n",
    "        ORDER BY total_sales DESC\n",
    "    ),\n",
    "    country_sales_sort AS (\n",
    "        SELECT \n",
    "            *,\n",
    "            CASE\n",
    "                WHEN c.country = \"Other\" THEN 1\n",
    "                ELSE 0\n",
    "            END AS sort\n",
    "        FROM customer_sales_country c\n",
    "        ORDER BY sort ASC\n",
    "    )\n",
    "   \n",
    "    SELECT * FROM country_sales_Sort\n",
    "    '''\n",
    "run_query(q)"
   ]
  },
  {
   "cell_type": "code",
   "execution_count": 9,
   "metadata": {
    "collapsed": false
   },
   "outputs": [
    {
     "data": {
      "image/png": "[encoded data removed]",
      "text/plain": [
       "<matplotlib.figure.Figure at 0x7f4af05cfe10>"
      ]
     },
     "metadata": {},
     "output_type": "display_data"
    }
   ],
   "source": [
    "customers_by_country = run_query(q)\n",
    "\n",
    "# Set index to country\n",
    "customers_by_country.set_index(\"country\", inplace=True)\n",
    "\n",
    "# Get the colors for each of the country\n",
    "colors = [plt.cm.rainbow(i) for i in np.linspace(0, 1, customers_by_country.shape[0])]\n",
    "\n",
    "# Initialize our plots\n",
    "fig, axes = plt.subplots(nrows=2, ncols=2, figsize=(12, 12))\n",
    "ax1, ax2, ax3, ax4 = axes.flatten()\n",
    "\n",
    "# Have dataset without \"Other\" index\n",
    "filtered_data = customers_by_country.drop(\"Other\")\n",
    "\n",
    "# Top Left Plot\n",
    "customers_by_country.loc[:,\"total_customers\"].plot.pie(\n",
    "    ax=ax1, \n",
    "    title=\"Number of Customers By Country\",\n",
    "    colormap=plt.cm.rainbow\n",
    ")\n",
    "ax1.set_ylabel('')\n",
    "\n",
    "# Top Right Plot\n",
    "customers_by_country.loc[:,\"total_sales\"].plot.bar(\n",
    "    ax=ax2, \n",
    "    title=\"Number of Sales By Country\",\n",
    "    color=colors\n",
    ")\n",
    "\n",
    "# Bottom Left Plot\n",
    "filtered_data.loc[:, \"average_order_val\"].plot.bar(\n",
    "    ax=ax3, \n",
    "    title=\"Customer Lifetime Value in USD\",\n",
    "    color=colors\n",
    ")\n",
    "\n",
    "# Bottom Right Plot\n",
    "# Calculate grand mean\n",
    "grand_mean = filtered_data.loc[:,\"sales_avg\"].mean()\n",
    "\n",
    "# Get percent difference from grand mean for each country\n",
    "filtered_data.loc[:,\"pct_from_grand_mean\"] = filtered_data.loc[:,\"sales_avg\"].apply(lambda x: ((x-grand_mean)/grand_mean)*100)\n",
    "filtered_data.loc[:,\"pct_from_grand_mean\"].plot.bar(\n",
    "    ax=ax4, \n",
    "    title=\"Average Order % Away from Mean\",\n",
    "    color=colors\n",
    ")\n",
    "ax4.tick_params(top=\"off\", right=\"off\", left=\"off\", bottom=\"off\")"
   ]
  },
  {
   "cell_type": "markdown",
   "metadata": {
    "collapsed": true
   },
   "source": [
    "<p>According to the data, <strong>Czech Republic</strong>, <strong>United Kingdom</strong> and <strong>India</strong> have strong potential for growth</p>"
   ]
  },
  {
   "cell_type": "code",
   "execution_count": null,
   "metadata": {
    "collapsed": true
   },
   "outputs": [],
   "source": []
  },
  {
   "cell_type": "code",
   "execution_count": 10,
   "metadata": {
    "collapsed": false
   },
   "outputs": [
    {
     "data": {
      "text/html": [
       "<div>\n",
       "<table border=\"1\" class=\"dataframe\">\n",
       "  <thead>\n",
       "    <tr style=\"text-align: right;\">\n",
       "      <th></th>\n",
       "      <th>album_purchase</th>\n",
       "      <th>invoice_count</th>\n",
       "      <th>invoice_pct</th>\n",
       "    </tr>\n",
       "  </thead>\n",
       "  <tbody>\n",
       "    <tr>\n",
       "      <th>0</th>\n",
       "      <td>no</td>\n",
       "      <td>500</td>\n",
       "      <td>0.814332</td>\n",
       "    </tr>\n",
       "    <tr>\n",
       "      <th>1</th>\n",
       "      <td>yes</td>\n",
       "      <td>114</td>\n",
       "      <td>0.185668</td>\n",
       "    </tr>\n",
       "  </tbody>\n",
       "</table>\n",
       "</div>"
      ],
      "text/plain": [
       "  album_purchase  invoice_count  invoice_pct\n",
       "0             no            500     0.814332\n",
       "1            yes            114     0.185668"
      ]
     },
     "execution_count": 10,
     "metadata": {},
     "output_type": "execute_result"
    }
   ],
   "source": [
    "# The following query will determine the total album sales and total track sales\n",
    "# We don't know whether an invoice is an album or track sale so we need to perform some\n",
    "# extra work to determine if the collection of tracks is from a single album\n",
    "q = '''\n",
    "    WITH invoice_with_is_album AS \n",
    "    (\n",
    "\n",
    "        SELECT \n",
    "            *,\n",
    "            CASE \n",
    "                WHEN COUNT(DISTINCT t.album_id) = 1 \n",
    "                AND\n",
    "                COUNT(DISTINCT t.track_id) \n",
    "                =\n",
    "                (\n",
    "                 SELECT \n",
    "                    COUNT(DISTINCT t3.track_id)\n",
    "                FROM track t3\n",
    "                WHERE t3.album_id = \n",
    "                    (\n",
    "                        SELECT \n",
    "                            MIN(t.album_id)\n",
    "                        FROM invoice i0\n",
    "                        INNER JOIN invoice_line il0 ON i0.invoice_id = il0.invoice_id \n",
    "                        INNER JOIN track t0 ON il0.track_id = t0.track_id\n",
    "                        GROUP BY i0.invoice_id\n",
    "                  )\n",
    "                ) THEN \"yes\"\n",
    "                ELSE \"no\"\n",
    "            END AS album_purchase\n",
    "        FROM invoice i1\n",
    "        INNER JOIN invoice_line il ON i1.invoice_id = il.invoice_id \n",
    "        INNER JOIN track t ON il.track_id = t.track_id\n",
    "        GROUP BY il.invoice_id\n",
    "    )\n",
    "    SELECT \n",
    "        album_purchase,\n",
    "        COUNT(*) invoice_count, \n",
    "        CAST(COUNT(*) AS FLOAT) / (SELECT COUNT(*) FROM invoice_with_is_album) invoice_pct \n",
    "    FROM invoice_with_is_album GROUP BY album_purchase;\n",
    "'''\n",
    "\n",
    "run_query(q)"
   ]
  },
  {
   "cell_type": "markdown",
   "metadata": {
    "collapsed": true
   },
   "source": [
    "<p>According to the results of our SQL Query, it is clear that most customers purchase individual tracks that albums. Therefore we should advise management to purchase the most popular tracks from record companies </p>"
   ]
  },
  {
   "cell_type": "code",
   "execution_count": null,
   "metadata": {
    "collapsed": true
   },
   "outputs": [],
   "source": []
  }
 ],
 "metadata": {
  "kernelspec": {
   "display_name": "Python 3",
   "language": "python",
   "name": "python3"
  },
  "language_info": {
   "codemirror_mode": {
    "name": "ipython",
    "version": 3
   },
   "file_extension": ".py",
   "mimetype": "text/x-python",
   "name": "python",
   "nbconvert_exporter": "python",
   "pygments_lexer": "ipython3",
   "version": "3.4.3"
  }
 },
 "nbformat": 4,
 "nbformat_minor": 2
}
